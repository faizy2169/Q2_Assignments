{
  "nbformat": 4,
  "nbformat_minor": 0,
  "metadata": {
    "colab": {
      "name": "fashion_mnist.ipynb",
      "provenance": [],
      "collapsed_sections": []
    },
    "kernelspec": {
      "name": "python3",
      "display_name": "Python 3"
    },
    "accelerator": "TPU"
  },
  "cells": [
    {
      "cell_type": "code",
      "metadata": {
        "colab": {
          "base_uri": "https://localhost:8080/",
          "height": 235
        },
        "id": "Y7UwZ7jWYeUP",
        "outputId": "d4b86097-a663-40aa-9c71-ff71f71bef5e"
      },
      "source": [
        "import tensorflow\r\n",
        "from tensorflow.keras.datasets import fashion_mnist\r\n",
        "(train_images,train_labels), (test_images, test_labels)=fashion_mnist.load_data()\r\n",
        "display(train_images.shape)\r\n",
        "train_images=train_images/255.0\r\n",
        "test_images=test_images/255.0\r\n",
        "model=tensorflow.keras.models.Sequential([tensorflow.keras.layers.Flatten(),\r\n",
        "                                          tensorflow.keras.layers.Dense(512, activation=tensorflow.nn.relu),\r\n",
        "                                          tensorflow.keras.layers.Dense(10, activation=tensorflow.nn.softmax)])\r\n",
        "model.compile(optimizer='rmsprop', loss='sparse_categorical_crossentropy', metrics=['accuracy'])\r\n",
        "model.fit(train_images,train_labels, epochs=5, batch_size=128)\r\n"
      ],
      "execution_count": null,
      "outputs": [
        {
          "output_type": "display_data",
          "data": {
            "text/plain": [
              "(60000, 28, 28)"
            ]
          },
          "metadata": {
            "tags": []
          }
        },
        {
          "output_type": "stream",
          "text": [
            "Epoch 1/5\n",
            "469/469 [==============================] - 5s 10ms/step - loss: 0.7421 - accuracy: 0.7423\n",
            "Epoch 2/5\n",
            "469/469 [==============================] - 5s 10ms/step - loss: 0.3952 - accuracy: 0.8539\n",
            "Epoch 3/5\n",
            "469/469 [==============================] - 5s 10ms/step - loss: 0.3408 - accuracy: 0.8753\n",
            "Epoch 4/5\n",
            "469/469 [==============================] - 5s 10ms/step - loss: 0.3171 - accuracy: 0.8821\n",
            "Epoch 5/5\n",
            "469/469 [==============================] - 4s 9ms/step - loss: 0.2915 - accuracy: 0.8908\n",
            "313/313 [==============================] - 1s 2ms/step - loss: 0.3683 - accuracy: 0.8716\n"
          ],
          "name": "stdout"
        }
      ]
    },
    {
      "cell_type": "code",
      "metadata": {
        "colab": {
          "base_uri": "https://localhost:8080/"
        },
        "id": "iWwzSxrUe_it",
        "outputId": "e6d49609-56f9-4dfe-afde-df224da55bdc"
      },
      "source": [
        "loss, acc=model.evaluate(test_images,test_labels)\r\n",
        "print(\"Accuracy=\",acc)"
      ],
      "execution_count": null,
      "outputs": [
        {
          "output_type": "stream",
          "text": [
            "313/313 [==============================] - 1s 2ms/step - loss: 0.3683 - accuracy: 0.8716\n",
            "Accuracy= 0.8715999722480774\n"
          ],
          "name": "stdout"
        }
      ]
    }
  ]
}