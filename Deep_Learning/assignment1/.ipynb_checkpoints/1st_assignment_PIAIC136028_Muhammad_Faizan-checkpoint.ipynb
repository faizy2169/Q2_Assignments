{
 "cells": [
  {
   "cell_type": "code",
   "execution_count": null,
   "metadata": {
    "colab": {
     "base_uri": "https://localhost:8080/",
     "height": 235
    },
    "id": "Y7UwZ7jWYeUP",
    "outputId": "d4b86097-a663-40aa-9c71-ff71f71bef5e"
   },
   "outputs": [
    {
     "data": {
      "text/plain": [
       "(60000, 28, 28)"
      ]
     },
     "metadata": {
      "tags": []
     },
     "output_type": "display_data"
    },
    {
     "name": "stdout",
     "output_type": "stream",
     "text": [
      "Epoch 1/5\n",
      "469/469 [==============================] - 5s 10ms/step - loss: 0.7421 - accuracy: 0.7423\n",
      "Epoch 2/5\n",
      "469/469 [==============================] - 5s 10ms/step - loss: 0.3952 - accuracy: 0.8539\n",
      "Epoch 3/5\n",
      "469/469 [==============================] - 5s 10ms/step - loss: 0.3408 - accuracy: 0.8753\n",
      "Epoch 4/5\n",
      "469/469 [==============================] - 5s 10ms/step - loss: 0.3171 - accuracy: 0.8821\n",
      "Epoch 5/5\n",
      "469/469 [==============================] - 4s 9ms/step - loss: 0.2915 - accuracy: 0.8908\n",
      "313/313 [==============================] - 1s 2ms/step - loss: 0.3683 - accuracy: 0.8716\n"
     ]
    }
   ],
   "source": [
    "import tensorflow\n",
    "from tensorflow.keras.datasets import fashion_mnist\n",
    "(train_images,train_labels), (test_images, test_labels)=fashion_mnist.load_data()\n",
    "display(train_images.shape)\n",
    "train_images=train_images/255.0\n",
    "test_images=test_images/255.0\n",
    "model=tensorflow.keras.models.Sequential([tensorflow.keras.layers.Flatten(),\n",
    "                                          tensorflow.keras.layers.Dense(512, activation=tensorflow.nn.relu),\n",
    "                                          tensorflow.keras.layers.Dense(10, activation=tensorflow.nn.softmax)])\n",
    "model.compile(optimizer='rmsprop', loss='sparse_categorical_crossentropy', metrics=['accuracy'])\n",
    "model.fit(train_images,train_labels, epochs=5, batch_size=128)\n"
   ]
  },
  {
   "cell_type": "code",
   "execution_count": null,
   "metadata": {
    "colab": {
     "base_uri": "https://localhost:8080/"
    },
    "id": "iWwzSxrUe_it",
    "outputId": "e6d49609-56f9-4dfe-afde-df224da55bdc"
   },
   "outputs": [
    {
     "name": "stdout",
     "output_type": "stream",
     "text": [
      "313/313 [==============================] - 1s 2ms/step - loss: 0.3683 - accuracy: 0.8716\n",
      "Accuracy= 0.8715999722480774\n"
     ]
    }
   ],
   "source": [
    "loss, acc=model.evaluate(test_images,test_labels)\n",
    "print(\"Accuracy=\",acc)"
   ]
  }
 ],
 "metadata": {
  "accelerator": "TPU",
  "colab": {
   "collapsed_sections": [],
   "name": "fashion_mnist.ipynb",
   "provenance": []
  },
  "kernelspec": {
   "display_name": "Python 3",
   "language": "python",
   "name": "python3"
  },
  "language_info": {
   "codemirror_mode": {
    "name": "ipython",
    "version": 3
   },
   "file_extension": ".py",
   "mimetype": "text/x-python",
   "name": "python",
   "nbconvert_exporter": "python",
   "pygments_lexer": "ipython3",
   "version": "3.7.4"
  }
 },
 "nbformat": 4,
 "nbformat_minor": 1
}
