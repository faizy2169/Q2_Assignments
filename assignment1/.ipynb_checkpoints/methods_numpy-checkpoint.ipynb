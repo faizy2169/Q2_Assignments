{
 "cells": [
  {
   "cell_type": "markdown",
   "metadata": {},
   "source": [
    "# Checking time comparison between numpy and python"
   ]
  },
  {
   "cell_type": "code",
   "execution_count": 103,
   "metadata": {},
   "outputs": [],
   "source": [
    "import numpy as np"
   ]
  },
  {
   "cell_type": "code",
   "execution_count": 161,
   "metadata": {},
   "outputs": [
    {
     "name": "stdout",
     "output_type": "stream",
     "text": [
      "Wall time: 13.5 s\n",
      "Wall time: 507 ms\n"
     ]
    }
   ],
   "source": [
    "arr=list(range(10000000)) \n",
    "#1_np.arange\n",
    "arr1=np.arange(10000000)\n",
    "%time for i in range(1,11): r=[x*2 for x in arr]\n",
    "%time for j in range(1,11): r=[arr1*2]"
   ]
  },
  {
   "cell_type": "code",
   "execution_count": 163,
   "metadata": {},
   "outputs": [
    {
     "name": "stdout",
     "output_type": "stream",
     "text": [
      "[[0.00289468 0.74441723 0.39686268]\n",
      " [0.7562966  0.00768969 0.74978943]]\n"
     ]
    }
   ],
   "source": [
    "#2_np.random.rand\n",
    "a=np.random.rand(2,3)\n",
    "print(a*a)"
   ]
  },
  {
   "cell_type": "markdown",
   "metadata": {},
   "source": [
    "# Dtype, ndim and Shape"
   ]
  },
  {
   "cell_type": "code",
   "execution_count": 29,
   "metadata": {},
   "outputs": [
    {
     "name": "stdout",
     "output_type": "stream",
     "text": [
      "Array Shape= (2, 3)\n",
      "Data type= float64\n",
      "Dimensions= 2\n"
     ]
    }
   ],
   "source": [
    "ar=np.random.rand(2,3)\n",
    "#3_np.shape\n",
    "print(\"Array Shape=\",np.shape(ar))\n",
    "#dtype\n",
    "print(\"Data type=\",ar.dtype)\n",
    "#ndim\n",
    "print(\"Dimensions=\",ar.ndim)\n"
   ]
  },
  {
   "cell_type": "code",
   "execution_count": 20,
   "metadata": {},
   "outputs": [
    {
     "name": "stdout",
     "output_type": "stream",
     "text": [
      "Array=  [[1 2 3 4]\n",
      " [6 2 6 2]]\n",
      "Array Shape= (2, 4)\n",
      "Array dimension= 2\n",
      "Data type= int32\n"
     ]
    }
   ],
   "source": [
    "#4_np.array\n",
    "n_arr=np.array([[1,2,3,4],[6,2,6,2]])\n",
    "print(\"Array= \",n_arr)\n",
    "#5_np.shape\n",
    "print(\"Array Shape=\",np.shape(n_arr))\n",
    "print(\"Array dimension=\",n_arr.ndim)\n",
    "print(\"Data type=\"n_arr.dtype)"
   ]
  },
  {
   "cell_type": "markdown",
   "metadata": {},
   "source": [
    "# Zeros, empty and Ones"
   ]
  },
  {
   "cell_type": "code",
   "execution_count": 5,
   "metadata": {},
   "outputs": [
    {
     "name": "stdout",
     "output_type": "stream",
     "text": [
      "Zeros= [[0. 0. 0.]\n",
      " [0. 0. 0.]]\n",
      "Ones= [[1. 1.]\n",
      " [1. 1.]\n",
      " [1. 1.]]\n",
      "Empty= [[[6.23042070e-307 1.86918699e-306]\n",
      "  [1.69121096e-306 1.24610994e-306]\n",
      "  [1.42417900e-306 1.78019082e-306]]\n",
      "\n",
      " [[1.37961913e-306 6.23057349e-307]\n",
      "  [1.02360935e-306 1.69120416e-306]\n",
      "  [1.78022342e-306 6.23058028e-307]]\n",
      "\n",
      " [[1.06811422e-306 1.27946076e-307]\n",
      "  [8.01097889e-307 1.86921143e-306]\n",
      "  [2.22522596e-306 0.00000000e+000]]]\n"
     ]
    }
   ],
   "source": [
    "#6_np.zeros\n",
    "arr_0=np.zeros((2,3))\n",
    "print(\"Zeros=\",arr_0)\n",
    "#7_np.ones\n",
    "arr_1=np.ones((3,2))\n",
    "print(\"Ones=\",arr_1)\n",
    "#8_np.empty\n",
    "arr_e=np.empty((3,3,2))\n",
    "print(\"Empty=\",arr_e)\n"
   ]
  },
  {
   "cell_type": "markdown",
   "metadata": {},
   "source": [
    "# Identity Matrix"
   ]
  },
  {
   "cell_type": "code",
   "execution_count": 21,
   "metadata": {},
   "outputs": [
    {
     "name": "stdout",
     "output_type": "stream",
     "text": [
      "Identity=\n",
      " [[1. 0. 0. 0. 0.]\n",
      " [0. 1. 0. 0. 0.]\n",
      " [0. 0. 1. 0. 0.]\n",
      " [0. 0. 0. 1. 0.]\n",
      " [0. 0. 0. 0. 1.]]\n"
     ]
    }
   ],
   "source": [
    "#9_np.identity()\n",
    "id_arr=np.identity(5)\n",
    "print(\"Identity=\\n\",(id_arr))\n"
   ]
  },
  {
   "cell_type": "markdown",
   "metadata": {},
   "source": [
    "# Data type"
   ]
  },
  {
   "cell_type": "code",
   "execution_count": 144,
   "metadata": {},
   "outputs": [
    {
     "name": "stdout",
     "output_type": "stream",
     "text": [
      "int32\n",
      "<U1\n",
      "float64\n",
      "[1. 2. 3. 4. 5.]    float32\n",
      "[1 2 3 4]    int8\n",
      "[1. 2. 3. 4.]\n"
     ]
    }
   ],
   "source": [
    "int=np.array([1,2,3,4,5])\n",
    "print(qint.dtype)\n",
    "\n",
    "string=np.array(['A','B','C','D'])\n",
    "print(string.dtype)\n",
    "\n",
    "float_1=np.array([1.0,2.0,3.0,4.0])\n",
    "print(float_1.dtype)\n",
    "\n",
    "### Type Casting ###\n",
    "\n",
    "fl_t_int=np.array([1,2,3,4,5],dtype=\"float32\")\n",
    "print(fl_t_int,\"  \",fl_t_int.dtype)\n",
    "\n",
    "int_t_fl=np.array([1.0,2.0,3.0,4.0], dtype=\"int8\")\n",
    "print(int_t_fl,\"  \",int_t_fl.dtype)\n",
    "#10_astype\n",
    "print(int_t_fl.astype(\"float64\"))"
   ]
  },
  {
   "cell_type": "markdown",
   "metadata": {},
   "source": [
    "# Airthmetic Operations with Arrays"
   ]
  },
  {
   "cell_type": "code",
   "execution_count": 82,
   "metadata": {},
   "outputs": [
    {
     "name": "stdout",
     "output_type": "stream",
     "text": [
      "Multiplication= [ 9 18 21 24 25 24]\n",
      "Addition= [10 11 10 10 10 10]\n",
      "Subtraction= [-8 -7 -4 -2  0  2]\n",
      "Division= [0.11111111 0.22222222 0.42857143 0.66666667 1.         1.5       ]\n",
      "Modulus= [1 2 3 4 0 2]\n",
      "X array small values= [1 2 3 4]\n",
      "Y array small values- [6]\n",
      "X,Y Equal Values= [5]\n",
      "X large values= [False False False False False  True]\n",
      "y large values= [ True  True  True  True False False]\n"
     ]
    }
   ],
   "source": [
    "x=np.array([1,2,3,4,5,6])\n",
    "y=np.array([9,9,7,6,5,4])\n",
    "print(\"Multiplication=\",x*y)\n",
    "print(\"Addition=\",x+y)\n",
    "print(\"Subtraction=\",x-y)\n",
    "print(\"Division=\",x/y)\n",
    "print(\"Modulus=\",x%y)\n",
    "\n",
    "# Conditions\n",
    "print(\"X array small values=\",x[x<y])\n",
    "print(\"Y array small values-\",x[y<x])\n",
    "print(\"X,Y Equal Values=\",x[x==y])\n",
    "\n",
    "#return bolean answer\n",
    "\n",
    "print(\"X large values=\",x>y)\n",
    "print(\"y large values=\",y>x)"
   ]
  },
  {
   "cell_type": "markdown",
   "metadata": {},
   "source": [
    "# Reshaping and ravel flatten Arrays"
   ]
  },
  {
   "cell_type": "code",
   "execution_count": 169,
   "metadata": {},
   "outputs": [
    {
     "name": "stdout",
     "output_type": "stream",
     "text": [
      "Original Array= [ 1  2  3  4  5  6  7  8  9 10] \n",
      "\n",
      "Two D Array= [[ 1  2  3  4  5]\n",
      " [ 6  7  8  9 10]] \n",
      "\n",
      "Original Array= [ 1  2  3  4  5  6  7  8  9 10] \n",
      "\n",
      "[ 1  2  3  4  5  6  7  8  9 10] \n",
      "\n",
      "Transpose Array= [[1 6]\n",
      " [5 2]\n",
      " [3 4]\n",
      " [1 1]]\n"
     ]
    }
   ],
   "source": [
    "arr=np.arange(1,11)\n",
    "print(\"Original Array=\",arr,\"\\n\")\n",
    "#11_np.reshape()\n",
    "d2arr=arr.reshape(2,5)\n",
    "print(\"Two D Array=\",d2arr,\"\\n\")\n",
    "#12_np.ravel()\n",
    "ori_arr=arr.ravel()\n",
    "print(\"Original Array=\",ori_arr,\"\\n\")\n",
    "#13_np.flatten()\n",
    "print(d2arr.flatten(),\"\\n\")\n",
    "#14_np.transpose()\n",
    "ab2=np.array([[1,5,3,1],[6,2,4,1]])\n",
    "print(\"Transpose Array=\",ab2.transpose())"
   ]
  },
  {
   "cell_type": "markdown",
   "metadata": {},
   "source": [
    "# Fastest Element Wise Function"
   ]
  },
  {
   "cell_type": "code",
   "execution_count": 250,
   "metadata": {},
   "outputs": [
    {
     "name": "stdout",
     "output_type": "stream",
     "text": [
      "[[0.13121127 0.4348224  0.54437253 0.66242427 0.39519374 0.20916006\n",
      "  0.79081684 0.89200517 0.06152594 0.41044889 0.93381793 0.47529226\n",
      "  0.6670066  0.17742663 0.39795671 0.4396588  0.69655441 0.40677956\n",
      "  0.40627003 0.27020012 0.89835026]] \n",
      "\n",
      "Maximum Number= 0.9338179328873785 \n",
      "\n",
      "Minimum Number= 0.061525939930084594 \n",
      "\n",
      "Power Array= [  1   4   9  16  25  36  49  64  81 100] \n",
      "\n",
      "Square Root= [1.         1.41421356 1.73205081 2.         2.23606798 2.44948974\n",
      " 2.64575131 2.82842712 3.         3.16227766] \n",
      "\n",
      "[ 1  2  3  4  5  6  7  8  9 10] \n",
      "\n",
      "Exponential Array= [2.71828183e+00 7.38905610e+00 2.00855369e+01 5.45981500e+01\n",
      " 1.48413159e+02 4.03428793e+02 1.09663316e+03 2.98095799e+03\n",
      " 8.10308393e+03 2.20264658e+04] \n",
      "\n",
      "Exponential2  Array=\n",
      " [   2.    4.    8.   16.   32.   64.  128.  256.  512. 1024.]\n"
     ]
    }
   ],
   "source": [
    "arr=np.random.rand(1,21)\n",
    "print(arr,\"\\n\")\n",
    "#15_np.max()\n",
    "print(\"Maximum Number=\",np.max(arr),\"\\n\")\n",
    "#16_np.min()\n",
    "print(\"Minimum Number=\",np.min(arr),\"\\n\")\n",
    "#17_np.power()\n",
    "arr1=np.arange(1,11)\n",
    "print(\"Power Array=\",np.power(arr1,2),\"\\n\")\n",
    "#18_np.sqrt()\n",
    "arr2=np.arange(1,11)\n",
    "print(\"Square Root=\",np.sqrt(arr2),\"\\n\")\n",
    "#19_np.exp()\n",
    "xyz=np.arange(1,11)\n",
    "print(xyz,\"\\n\")\n",
    "print(\"Exponential Array=\",np.exp(xyz),\"\\n\")\n",
    "#20_np.exp2()\n",
    "print(\"Exponential2  Array=\\n\",np.exp2(xyz))"
   ]
  },
  {
   "cell_type": "markdown",
   "metadata": {},
   "source": [
    "# Mathematical and Statistical Function"
   ]
  },
  {
   "cell_type": "code",
   "execution_count": 36,
   "metadata": {},
   "outputs": [
    {
     "name": "stdout",
     "output_type": "stream",
     "text": [
      "[ 1  2  3  4  5  6  7  8  9 10]\n",
      "Average= 5.5\n",
      "Average= 5.5\n",
      "Sum= 55\n",
      "SUbtract with 1= [0 1 2 3 4 5 6 7 8 9]\n",
      "Multiply= 3628800 \n",
      "\n",
      "[[0.37373535 0.84259641 0.26294552 0.08807225 0.30951315 0.91256089\n",
      "  0.66187941 0.61691844 0.36982292 0.16185795 0.67954988]] \n",
      "\n",
      "Cumulative Sum= [0.37373535 1.21633176 1.47927728 1.56734953 1.87686268 2.78942357\n",
      " 3.45130298 4.06822141 4.43804433 4.59990228 5.27945216] \n",
      "\n",
      "Cumulative Product= [3.73735349e-01 3.14908064e-01 8.28036643e-02 7.29270527e-03\n",
      " 2.25718818e-03 2.05982165e-03 1.36335353e-03 8.41077927e-04\n",
      " 3.11049891e-04 5.03458981e-05 3.42125488e-05] \n",
      "\n",
      "Array=  [1 2 3 4 5 5 6 7 8] \n",
      "\n",
      "Standard Deviation of Array= 2.1659542988464366 \n",
      "\n",
      "Variance of Array= 4.691358024691358 \n",
      "\n",
      "Min Element of Array= 1 \n",
      "\n",
      "Max Element of Array= 8 \n",
      "\n"
     ]
    }
   ],
   "source": [
    "arr=np.arange(1,11)\n",
    "print(arr)\n",
    "#21_np.mean()\n",
    "print(\"Average=\",arr.mean())\n",
    "#22_np.median()\n",
    "print(\"Average=\", np.median(arr))\n",
    "#23_np.sum()\n",
    "print(\"Sum=\",np.sum(arr))\n",
    "#24_np.subtract()\n",
    "print(\"SUbtract with 1=\",np.subtract(arr,1))\n",
    "#25_np.prod()\n",
    "print(\"Multiply=\",np.prod(arr),\"\\n\")\n",
    "\n",
    "x=np.random.rand(1,11)\n",
    "print(x,\"\\n\")\n",
    "#26_np.cumsum\n",
    "print(\"Cumulative Sum=\", np.cumsum(x),\"\\n\")\n",
    "#27_np.cumprod\n",
    "print(\"Cumulative Product=\", np.cumprod(x), \"\\n\")\n",
    "#28_np.std\n",
    "a_s=np.array([1,2,3,4,5,5,6,7,8])\n",
    "print(\"Array= \",a_s,\"\\n\")\n",
    "print(\"Standard Deviation of Array=\",np.std(a_s),\"\\n\")\n",
    "#29_np.var\n",
    "print(\"Variance of Array=\",np.var(a_s),\"\\n\")\n",
    "#30_np.argmin\n",
    "indx=np.argmin(a_s)\n",
    "print(\"Min Element of Array=\",a_s[indx],\"\\n\")\n",
    "#31_np.argmax\n",
    "indx1=np.argmax(a_s)\n",
    "print(\"Max Element of Array=\",a_s[indx1],\"\\n\")"
   ]
  },
  {
   "cell_type": "markdown",
   "metadata": {},
   "source": [
    "# Arrays Concatenation"
   ]
  },
  {
   "cell_type": "code",
   "execution_count": 191,
   "metadata": {},
   "outputs": [
    {
     "name": "stdout",
     "output_type": "stream",
     "text": [
      "Array 1=\n",
      " [[1. 1. 1.]\n",
      " [1. 1. 1.]\n",
      " [1. 1. 1.]] \n",
      "\n",
      "Array 2=\n",
      " [[0. 0. 0.]\n",
      " [0. 0. 0.]\n",
      " [0. 0. 0.]] \n",
      "\n",
      "Array Concatenation=\n",
      "  [[1. 1. 1.]\n",
      " [1. 1. 1.]\n",
      " [1. 1. 1.]\n",
      " [0. 0. 0.]\n",
      " [0. 0. 0.]\n",
      " [0. 0. 0.]] \n",
      "\n",
      "Array Horizontal Concatenate=\n",
      " [[1. 1. 1. 0. 0. 0.]\n",
      " [1. 1. 1. 0. 0. 0.]\n",
      " [1. 1. 1. 0. 0. 0.]] \n",
      "\n",
      "Array Vertical Concatenate=\n",
      " [[1. 1. 1.]\n",
      " [1. 1. 1.]\n",
      " [1. 1. 1.]\n",
      " [0. 0. 0.]\n",
      " [0. 0. 0.]\n",
      " [0. 0. 0.]] \n",
      "\n"
     ]
    }
   ],
   "source": [
    "arr1=np.ones((3,3))\n",
    "arr2=np.zeros((3,3))\n",
    "print(\"Array 1=\\n\",arr1,\"\\n\")\n",
    "print(\"Array 2=\\n\",arr2,\"\\n\")\n",
    "#32_np.concatenate()\n",
    "print(\"Array Concatenation=\\n \",np.concatenate((arr1,arr2)),\"\\n\")\n",
    "#33_np.hstack()\n",
    "print(\"Array Horizontal Concatenate=\\n\",np.hstack((arr1,arr2)),\"\\n\")\n",
    "#34_np.vstack()\n",
    "print(\"Array Vertical Concatenate=\\n\",np.vstack((arr1,arr2)),\"\\n\")"
   ]
  },
  {
   "cell_type": "markdown",
   "metadata": {},
   "source": [
    "# Array Splitting"
   ]
  },
  {
   "cell_type": "code",
   "execution_count": 231,
   "metadata": {},
   "outputs": [
    {
     "name": "stdout",
     "output_type": "stream",
     "text": [
      "[ 1  2  3  4  5  6  7  8  9 10] \n",
      "\n",
      "Split Array= [array([1, 2, 3]), array([4, 5, 6]), array([ 7,  8,  9, 10])] \n",
      "\n",
      "Dot Product of 2 arrays= 26\n",
      "Swap Array=\n",
      " [[[ 1  5]\n",
      "  [ 2  6]\n",
      "  [ 3  7]\n",
      "  [ 4  8]]\n",
      "\n",
      " [[11 15]\n",
      "  [12 16]\n",
      "  [13 17]\n",
      "  [14 18]]]\n"
     ]
    }
   ],
   "source": [
    "#35_np.split()\n",
    "arr=np.arange(1,11);\n",
    "print(arr,\"\\n\")\n",
    "split_arr=np.split(arr,[3,6],axis=0)\n",
    "print(\"Split Array=\",split_arr,\"\\n\")\n",
    "\n",
    "#36_np.dot()\n",
    "arr1=[1,2,3,4]\n",
    "arr2=[3,2,1,4]\n",
    "print(\"Dot Product of 2 arrays=\",np.dot(arr1,arr2))\n",
    "\n",
    "\n",
    "a=[1,2,3,4]\n",
    "b=[5,6,7,8] \n",
    "c=[11,12,13,14] \n",
    "d=[15,16,17,18]\n",
    "#37_np.swapaxes()\n",
    "aray=np.array([[a,b],[c,d]])\n",
    "print(\"Swap Array=\\n\",aray.swapaxes(1,2))"
   ]
  },
  {
   "cell_type": "markdown",
   "metadata": {},
   "source": [
    "# Tile and Repeat"
   ]
  },
  {
   "cell_type": "code",
   "execution_count": 236,
   "metadata": {},
   "outputs": [
    {
     "name": "stdout",
     "output_type": "stream",
     "text": [
      "Repeat Every Individual= [1 1 2 2 3 3 4 4 5 5]\n",
      "Repeat Whole Array= [1 2 3 4 5 1 2 3 4 5 1 2 3 4 5]\n"
     ]
    }
   ],
   "source": [
    "#38_np.repeat()\n",
    "arr=np.array([1,2,3,4,5])\n",
    "print(\"Repeat Every Individual=\",arr.repeat(2))\n",
    "#39_np.tile()\n",
    "print(\"Repeat Whole Array=\",np.tile(arr,3))"
   ]
  },
  {
   "cell_type": "markdown",
   "metadata": {},
   "source": [
    "# Logrithm"
   ]
  },
  {
   "cell_type": "code",
   "execution_count": 260,
   "metadata": {},
   "outputs": [
    {
     "name": "stdout",
     "output_type": "stream",
     "text": [
      "Array= [1 2 3 4 5] \n",
      "\n",
      "Log base 2 of Array= [0.         1.         1.5849625  2.         2.32192809] \n",
      "\n",
      "Log base 10 of Array= [0.         0.30103    0.47712125 0.60205999 0.69897   ] \n",
      "\n"
     ]
    },
    {
     "data": {
      "text/plain": [
       "array([0.69314718, 1.09861229, 1.38629436, 1.60943791, 1.79175947])"
      ]
     },
     "execution_count": 260,
     "metadata": {},
     "output_type": "execute_result"
    }
   ],
   "source": [
    "#40_np.log2()\n",
    "x=np.array([1,2,3,4,5])\n",
    "print(\"Array=\",x,\"\\n\")\n",
    "print(\"Log base 2 of Array=\",np.log2(x),\"\\n\")\n",
    "#41_np.log10()\n",
    "print(\"Log base 10 of Array=\",np.log10(x),\"\\n\")\n",
    "np.log1p(x)"
   ]
  },
  {
   "cell_type": "markdown",
   "metadata": {},
   "source": [
    "# Where() and sort()"
   ]
  },
  {
   "cell_type": "code",
   "execution_count": 50,
   "metadata": {},
   "outputs": [
    {
     "name": "stdout",
     "output_type": "stream",
     "text": [
      "Array= [ 1  2  3  4  5  6  7  8  9 10] \n",
      "\n",
      "Idices of element=  (array([4, 5, 6, 7, 8, 9], dtype=int64),) \n",
      "\n",
      "Array Elements= [ 5  6  7  8  9 10] \n",
      "\n",
      "Array= [ 6  2  5  8  3  1  4  7 43 23  6 32  6 31  4  7 42] \n",
      "\n",
      "Sorted Array= [ 1  2  3  4  4  5  6  6  6  7  7  8 23 31 32 42 43] \n",
      "\n",
      "Unique Values= [ 1  2  3  4  5  6  7  8 23 31 32 42 43] \n",
      "\n"
     ]
    }
   ],
   "source": [
    "#42_np.where()\n",
    "arr=np.array([1,2,3,4,5,6,7,8,9,10]);\n",
    "print(\"Array=\",arr,\"\\n\")\n",
    "index=np.where(arr>4)\n",
    "print(\"Idices of element= \",(index),\"\\n\")\n",
    "print(\"Array Elements=\",arr[index],\"\\n\")\n",
    "#43_np.sort()\n",
    "a1=np.array([6,2,5,8,3,1,4,7,43,23,6,32,6,31,4,7,42])\n",
    "print(\"Array=\",a1,\"\\n\")\n",
    "print(\"Sorted Array=\",np.sort(a1),\"\\n\")\n",
    "#44_np.unique()\n",
    "print(\"Unique Values=\",np.unique(a1),\"\\n\")\n"
   ]
  },
  {
   "cell_type": "markdown",
   "metadata": {},
   "source": [
    "# Methods for Boolean Arrays"
   ]
  },
  {
   "cell_type": "code",
   "execution_count": 67,
   "metadata": {},
   "outputs": [
    {
     "name": "stdout",
     "output_type": "stream",
     "text": [
      "Arrays= [2 4 5 6 7 9 6 3 2 2 4 2] \n",
      "\n",
      "Boolean Values > 5= [False False False  True  True  True  True False False False False False] \n",
      "\n",
      "If Any values true= True \n",
      "\n",
      "if all values true= False \n",
      "\n"
     ]
    }
   ],
   "source": [
    "arr=np.array([2,4,5,6,7,9,6,3,2,2,4,2])\n",
    "print(\"Arrays=\",arr,\"\\n\")\n",
    "b1_value=arr>5\n",
    "print(\"Boolean Values > 5=\",b1_value,\"\\n\")\n",
    "#45_np.any()\n",
    "print(\"If Any values true=\",np.any(b1_value),\"\\n\")\n",
    "#46_np.all()\n",
    "print(\"if all values true=\",np.all(b1_value),\"\\n\")\n"
   ]
  },
  {
   "cell_type": "markdown",
   "metadata": {},
   "source": [
    "# Diagonal() det() trace()"
   ]
  },
  {
   "cell_type": "code",
   "execution_count": 113,
   "metadata": {},
   "outputs": [
    {
     "name": "stdout",
     "output_type": "stream",
     "text": [
      "Array= [1, 2, 3, 4, 5] \n",
      "\n",
      "Diagonal Array=\n",
      " [[1 0 0 0 0]\n",
      " [0 2 0 0 0]\n",
      " [0 0 3 0 0]\n",
      " [0 0 0 4 0]\n",
      " [0 0 0 0 5]] \n",
      "\n",
      "Diagonal Sum of Array=\n",
      " 15 \n",
      "\n",
      "Inverse of Square Matrix=\n",
      " [[-2 -1 -1 -1 -1]\n",
      " [-1 -3 -1 -1 -1]\n",
      " [-1 -1 -4 -1 -1]\n",
      " [-1 -1 -1 -5 -1]\n",
      " [-1 -1 -1 -1 -6]]\n",
      "None\n"
     ]
    }
   ],
   "source": [
    "#47_np.diag()\n",
    "a=[1,2,3,4,5]\n",
    "print(\"Array=\",a,\"\\n\")\n",
    "b=np.diag(a,k=0)\n",
    "print(\"Diagonal Array=\\n\",b,\"\\n\")\n",
    "#48_np.trace()\n",
    "print(\"Diagonal Sum of Array=\\n\",np.trace(b),\"\\n\")\n",
    "#49_np.inv()\n",
    "print(\"Inverse of Square Matrix=\\n\",np.invert(b))\n"
   ]
  },
  {
   "cell_type": "markdown",
   "metadata": {},
   "source": [
    "# Pseudo Random Generator"
   ]
  },
  {
   "cell_type": "code",
   "execution_count": 147,
   "metadata": {},
   "outputs": [
    {
     "name": "stdout",
     "output_type": "stream",
     "text": [
      "[[1234.47143516 1232.80902431 1235.43270697 1233.6873481 ]\n",
      " [1233.27941127 1234.88716294 1234.85958841 1233.3634765 ]\n",
      " [1234.01569637 1231.75731505 1235.15003572 1234.99194602]\n",
      " [1234.95332413 1231.97874518 1233.66592263 1234.00211836]] \n",
      "\n",
      "[0.77282662 0.88264119 0.36488598 ... 0.68356789 0.42128297 0.69320334] \n",
      "\n"
     ]
    }
   ],
   "source": [
    "#50_np.random.seed()         To remove biasness\n",
    "np.random.seed(1234)\n",
    "#51_np.random.normal()       Generate data with normal distribution curve\n",
    "a=np.random.normal(1234,size=[4,4])\n",
    "print(a,\"\\n\")\n",
    "b=np.random.rand(1234)\n",
    "print(b,\"\\n\")"
   ]
  }
 ],
 "metadata": {
  "kernelspec": {
   "display_name": "Python 3",
   "language": "python",
   "name": "python3"
  },
  "language_info": {
   "codemirror_mode": {
    "name": "ipython",
    "version": 3
   },
   "file_extension": ".py",
   "mimetype": "text/x-python",
   "name": "python",
   "nbconvert_exporter": "python",
   "pygments_lexer": "ipython3",
   "version": "3.7.4"
  }
 },
 "nbformat": 4,
 "nbformat_minor": 4
}
